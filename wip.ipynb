{
 "cells": [
  {
   "cell_type": "markdown",
   "id": "ca97c82a-db57-4a78-a74b-a46dde1cf3ee",
   "metadata": {},
   "source": [
    "### Imports"
   ]
  },
  {
   "cell_type": "code",
   "execution_count": 2,
   "id": "f5ee2682-311a-426c-9891-24097a610316",
   "metadata": {},
   "outputs": [],
   "source": [
    "import yfinance as yf\n",
    "import pandas as pd"
   ]
  },
  {
   "cell_type": "markdown",
   "id": "656a7c6c-c30c-4904-b0be-bcdce45ef593",
   "metadata": {},
   "source": [
    "### Getting the data"
   ]
  },
  {
   "cell_type": "code",
   "execution_count": 4,
   "id": "56f344a7-e02e-46ea-92b3-c3fffc90e061",
   "metadata": {},
   "outputs": [],
   "source": [
    "def get_sp500_ticker_list():\n",
    "    \"\"\"\n",
    "    Returns a list with all SP500 tickers\n",
    "    \"\"\"\n",
    "    url = 'https://en.wikipedia.org/wiki/List_of_S%26P_500_companies'\n",
    "    tables = pd.read_html(url)\n",
    "    table = tables[0]\n",
    "    ticker_list = table['Symbol']\n",
    "    return ticker_list"
   ]
  },
  {
   "cell_type": "code",
   "execution_count": 8,
   "id": "2d289221-e4fa-4e3a-bc07-6830638f05ea",
   "metadata": {},
   "outputs": [],
   "source": [
    "def get_sample_ticker(ticker_list, n=5):\n",
    "    sample = ticker_list.sample(n)\n",
    "    return sample"
   ]
  },
  {
   "cell_type": "code",
   "execution_count": 11,
   "id": "c159ed3d-6d6b-4898-8eb7-21a63ea8033b",
   "metadata": {},
   "outputs": [],
   "source": [
    "def get_adj_close(ticker_list, start, end, interval):\n",
    "    \"\"\"\n",
    "    Returns the adjusted close for a unique ticker as string or a list of tickers.\n",
    "    Format of dates: 'yyyy-mm-dd'\n",
    "    Possible intervals: '1d', '5d', '1mo' \n",
    "    or intraday measures but limited to max a week's worth: '1m', '2m', '5m', '15m', '30m'\n",
    "    \"\"\"\n",
    "    full_df = yf.download(ticker_list, start=start, end=end, interval=interval)\n",
    "    adj_close_df = full_df['Adj Close']\n",
    "    return adj_close_df"
   ]
  },
  {
   "cell_type": "code",
   "execution_count": null,
   "id": "2a0156b6-9ee9-4236-9a88-27ce43b1a81b",
   "metadata": {},
   "outputs": [],
   "source": [
    "df = get_adj_close(['aapl', 'nvda', 'ftnt'], '2018-12-3')"
   ]
  },
  {
   "cell_type": "code",
   "execution_count": 17,
   "id": "c710b41a-4774-48aa-a632-bd1367ad42d5",
   "metadata": {},
   "outputs": [],
   "source": [
    "def get_df(n=5, start='2018-01-01', end='2021-12-31', interval='1mo'):\n",
    "    \"\"\"\n",
    "    Returns a dataframe of a random sample of the sp500 adj closes over a certain period of time\n",
    "    \"\"\"\n",
    "    sp500_tickers = get_sp500_ticker_list()\n",
    "    sample_tickers = get_sample_ticker(sp500_tickers, n)\n",
    "    df = get_adj_close(sample_tickers, start, end, interval)\n",
    "    return df"
   ]
  },
  {
   "cell_type": "code",
   "execution_count": 18,
   "id": "15fc8122-449d-4158-a61e-dc8186716896",
   "metadata": {},
   "outputs": [
    {
     "ename": "AttributeError",
     "evalue": "'Series' object has no attribute 'split'",
     "output_type": "error",
     "traceback": [
      "\u001b[0;31m---------------------------------------------------------------------------\u001b[0m",
      "\u001b[0;31mAttributeError\u001b[0m                            Traceback (most recent call last)",
      "\u001b[0;32m/var/folders/75/_lpdck312plbd86wrgx53dbc0000gn/T/ipykernel_1444/387207264.py\u001b[0m in \u001b[0;36m<module>\u001b[0;34m\u001b[0m\n\u001b[0;32m----> 1\u001b[0;31m \u001b[0mdf_test\u001b[0m \u001b[0;34m=\u001b[0m \u001b[0mget_df\u001b[0m\u001b[0;34m(\u001b[0m\u001b[0;34m)\u001b[0m\u001b[0;34m\u001b[0m\u001b[0;34m\u001b[0m\u001b[0m\n\u001b[0m",
      "\u001b[0;32m/var/folders/75/_lpdck312plbd86wrgx53dbc0000gn/T/ipykernel_1444/660747222.py\u001b[0m in \u001b[0;36mget_df\u001b[0;34m(n, start, end, interval)\u001b[0m\n\u001b[1;32m      5\u001b[0m     \u001b[0msp500_tickers\u001b[0m \u001b[0;34m=\u001b[0m \u001b[0mget_sp500_ticker_list\u001b[0m\u001b[0;34m(\u001b[0m\u001b[0;34m)\u001b[0m\u001b[0;34m\u001b[0m\u001b[0;34m\u001b[0m\u001b[0m\n\u001b[1;32m      6\u001b[0m     \u001b[0msample_tickers\u001b[0m \u001b[0;34m=\u001b[0m \u001b[0mget_sample_ticker\u001b[0m\u001b[0;34m(\u001b[0m\u001b[0msp500_tickers\u001b[0m\u001b[0;34m,\u001b[0m \u001b[0mn\u001b[0m\u001b[0;34m)\u001b[0m\u001b[0;34m\u001b[0m\u001b[0;34m\u001b[0m\u001b[0m\n\u001b[0;32m----> 7\u001b[0;31m     \u001b[0mdf\u001b[0m \u001b[0;34m=\u001b[0m \u001b[0mget_adj_close\u001b[0m\u001b[0;34m(\u001b[0m\u001b[0msample_tickers\u001b[0m\u001b[0;34m,\u001b[0m \u001b[0mstart\u001b[0m\u001b[0;34m,\u001b[0m \u001b[0mend\u001b[0m\u001b[0;34m,\u001b[0m \u001b[0minterval\u001b[0m\u001b[0;34m)\u001b[0m\u001b[0;34m\u001b[0m\u001b[0;34m\u001b[0m\u001b[0m\n\u001b[0m\u001b[1;32m      8\u001b[0m     \u001b[0;32mreturn\u001b[0m \u001b[0mdf\u001b[0m\u001b[0;34m\u001b[0m\u001b[0;34m\u001b[0m\u001b[0m\n",
      "\u001b[0;32m/var/folders/75/_lpdck312plbd86wrgx53dbc0000gn/T/ipykernel_1444/3268726862.py\u001b[0m in \u001b[0;36mget_adj_close\u001b[0;34m(ticker_list, start, end, interval)\u001b[0m\n\u001b[1;32m      6\u001b[0m     \u001b[0;32mor\u001b[0m \u001b[0mintraday\u001b[0m \u001b[0mmeasures\u001b[0m \u001b[0mbut\u001b[0m \u001b[0mlimited\u001b[0m \u001b[0mto\u001b[0m \u001b[0mmax\u001b[0m \u001b[0ma\u001b[0m \u001b[0mweek\u001b[0m\u001b[0;34m's worth: '\u001b[0m\u001b[0;36m1\u001b[0m\u001b[0mm\u001b[0m\u001b[0;34m', '\u001b[0m\u001b[0;36m2\u001b[0m\u001b[0mm\u001b[0m\u001b[0;34m', '\u001b[0m\u001b[0;36m5\u001b[0m\u001b[0mm\u001b[0m\u001b[0;34m', '\u001b[0m\u001b[0;36m15\u001b[0m\u001b[0mm\u001b[0m\u001b[0;34m', '\u001b[0m\u001b[0;36m30\u001b[0m\u001b[0mm\u001b[0m\u001b[0;31m'\u001b[0m\u001b[0;34m\u001b[0m\u001b[0;34m\u001b[0m\u001b[0m\n\u001b[1;32m      7\u001b[0m     \"\"\"\n\u001b[0;32m----> 8\u001b[0;31m     \u001b[0mfull_df\u001b[0m \u001b[0;34m=\u001b[0m \u001b[0myf\u001b[0m\u001b[0;34m.\u001b[0m\u001b[0mdownload\u001b[0m\u001b[0;34m(\u001b[0m\u001b[0mticker_list\u001b[0m\u001b[0;34m,\u001b[0m \u001b[0mstart\u001b[0m\u001b[0;34m=\u001b[0m\u001b[0mstart\u001b[0m\u001b[0;34m,\u001b[0m \u001b[0mend\u001b[0m\u001b[0;34m=\u001b[0m\u001b[0mend\u001b[0m\u001b[0;34m,\u001b[0m \u001b[0minterval\u001b[0m\u001b[0;34m=\u001b[0m\u001b[0minterval\u001b[0m\u001b[0;34m)\u001b[0m\u001b[0;34m\u001b[0m\u001b[0;34m\u001b[0m\u001b[0m\n\u001b[0m\u001b[1;32m      9\u001b[0m     \u001b[0madj_close_df\u001b[0m \u001b[0;34m=\u001b[0m \u001b[0mfull_df\u001b[0m\u001b[0;34m[\u001b[0m\u001b[0;34m'Adj Close'\u001b[0m\u001b[0;34m]\u001b[0m\u001b[0;34m\u001b[0m\u001b[0;34m\u001b[0m\u001b[0m\n\u001b[1;32m     10\u001b[0m     \u001b[0;32mreturn\u001b[0m \u001b[0madj_close_df\u001b[0m\u001b[0;34m\u001b[0m\u001b[0;34m\u001b[0m\u001b[0m\n",
      "\u001b[0;32m~/opt/anaconda3/lib/python3.9/site-packages/yfinance/multi.py\u001b[0m in \u001b[0;36mdownload\u001b[0;34m(tickers, start, end, actions, threads, group_by, auto_adjust, back_adjust, progress, period, show_errors, interval, prepost, proxy, rounding, timeout, **kwargs)\u001b[0m\n\u001b[1;32m     74\u001b[0m     \u001b[0;31m# create ticker list\u001b[0m\u001b[0;34m\u001b[0m\u001b[0;34m\u001b[0m\u001b[0m\n\u001b[1;32m     75\u001b[0m     tickers = tickers if isinstance(\n\u001b[0;32m---> 76\u001b[0;31m         tickers, (list, set, tuple)) else tickers.replace(',', ' ').split()\n\u001b[0m\u001b[1;32m     77\u001b[0m \u001b[0;34m\u001b[0m\u001b[0m\n\u001b[1;32m     78\u001b[0m     \u001b[0;31m# accept isin as ticker\u001b[0m\u001b[0;34m\u001b[0m\u001b[0;34m\u001b[0m\u001b[0m\n",
      "\u001b[0;32m~/opt/anaconda3/lib/python3.9/site-packages/pandas/core/generic.py\u001b[0m in \u001b[0;36m__getattr__\u001b[0;34m(self, name)\u001b[0m\n\u001b[1;32m   5485\u001b[0m         ):\n\u001b[1;32m   5486\u001b[0m             \u001b[0;32mreturn\u001b[0m \u001b[0mself\u001b[0m\u001b[0;34m[\u001b[0m\u001b[0mname\u001b[0m\u001b[0;34m]\u001b[0m\u001b[0;34m\u001b[0m\u001b[0;34m\u001b[0m\u001b[0m\n\u001b[0;32m-> 5487\u001b[0;31m         \u001b[0;32mreturn\u001b[0m \u001b[0mobject\u001b[0m\u001b[0;34m.\u001b[0m\u001b[0m__getattribute__\u001b[0m\u001b[0;34m(\u001b[0m\u001b[0mself\u001b[0m\u001b[0;34m,\u001b[0m \u001b[0mname\u001b[0m\u001b[0;34m)\u001b[0m\u001b[0;34m\u001b[0m\u001b[0;34m\u001b[0m\u001b[0m\n\u001b[0m\u001b[1;32m   5488\u001b[0m \u001b[0;34m\u001b[0m\u001b[0m\n\u001b[1;32m   5489\u001b[0m     \u001b[0;32mdef\u001b[0m \u001b[0m__setattr__\u001b[0m\u001b[0;34m(\u001b[0m\u001b[0mself\u001b[0m\u001b[0;34m,\u001b[0m \u001b[0mname\u001b[0m\u001b[0;34m:\u001b[0m \u001b[0mstr\u001b[0m\u001b[0;34m,\u001b[0m \u001b[0mvalue\u001b[0m\u001b[0;34m)\u001b[0m \u001b[0;34m->\u001b[0m \u001b[0;32mNone\u001b[0m\u001b[0;34m:\u001b[0m\u001b[0;34m\u001b[0m\u001b[0;34m\u001b[0m\u001b[0m\n",
      "\u001b[0;31mAttributeError\u001b[0m: 'Series' object has no attribute 'split'"
     ]
    }
   ],
   "source": [
    "df_test = get_df()"
   ]
  },
  {
   "cell_type": "code",
   "execution_count": 3,
   "id": "536cfaa4-7cb2-4d27-a321-4df6365bb180",
   "metadata": {},
   "outputs": [],
   "source": [
    "# def sp500_closes_to_csv(start, end, interval):\n",
    "#     \"\"\"\n",
    "#     Saves adjusted closes for all  SP500 companies in a csv file\n",
    "#     Format of dates: 'yyyy-mm-dd'\n",
    "#     Possible intervals: '1d', '5d', '1mo' \n",
    "#     or intraday measures but limited to max a week's worth: '1m', '2m', '5m', '15m', '30m'\n",
    "#     \"\"\"\n",
    "#     ticker_list = get_sp500_ticker_list()\n",
    "#     adj_closes = get_adj_close(ticker_list, start, end, interval)\n",
    "#     adj_closes.to_csv('sp500_ajdclose.csv')"
   ]
  },
  {
   "cell_type": "code",
   "execution_count": null,
   "id": "a6bb93a0-8b4f-4f6a-a3e4-ca8aa0623faf",
   "metadata": {},
   "outputs": [],
   "source": []
  },
  {
   "cell_type": "markdown",
   "id": "b886ff03-d137-424a-9aec-a7fe2ec31e20",
   "metadata": {},
   "source": [
    "### Garch"
   ]
  },
  {
   "cell_type": "code",
   "execution_count": null,
   "id": "6a9040dc-f745-4c2a-86a6-11b20f7bd24f",
   "metadata": {},
   "outputs": [],
   "source": [
    "#finding the best parameters\n",
    "split_date = dt.datetime(2020,12,20)\n",
    "aapl_ret = returns[\"AAPL\"]\n",
    "\n",
    "def garch(returns,split_date):\n",
    "\n",
    "    aic_garch = []\n",
    "\n",
    "    for p in range(1, 5): \n",
    "        for q in range(1,5):\n",
    "            garch = arch_model(returns, mean='zero', vol='GARCH', p=p, q=q)\\\n",
    "                .fit(disp='off') \n",
    "            aic_garch.append(garch.aic) \n",
    "\n",
    "            if garch.aic == np.min(aic_garch): \n",
    "                best_param = (p,q) \n",
    "    print(\"GARCH(\",best_param,\")\")\n",
    "    \n",
    "    #fitting the GARCH model on the train data set\n",
    "    garch = arch_model(returns, mean='zero', vol='GARCH', p=best_param[0], q=best_param[1])\n",
    "    garch_results = garch.fit(disp='off', last_obs=split_date)\n",
    "    print(garch_results.summary)\n",
    "    \n",
    "    #forecasts\n",
    "    forecasts_aapl = garch_results.forecast(horizon=1, start=split_date, reindex=False)\n",
    "    \n",
    "    #plotting realized volatility vs volatility prediction with GARCH\n",
    "    plt.plot(realized_vol['AAPL'] /100, label=\"realized volatility\")\n",
    "    plt.plot(forecasts_aapl.variance/100, label=\"Volatility prediction GARCH\")\n",
    "    plt.legend()\n",
    "    plt.show()"
   ]
  }
 ],
 "metadata": {
  "kernelspec": {
   "display_name": "Python 3 (ipykernel)",
   "language": "python",
   "name": "python3"
  },
  "language_info": {
   "codemirror_mode": {
    "name": "ipython",
    "version": 3
   },
   "file_extension": ".py",
   "mimetype": "text/x-python",
   "name": "python",
   "nbconvert_exporter": "python",
   "pygments_lexer": "ipython3",
   "version": "3.9.7"
  }
 },
 "nbformat": 4,
 "nbformat_minor": 5
}
