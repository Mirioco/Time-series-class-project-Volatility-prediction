{
 "cells": [
  {
   "cell_type": "markdown",
   "id": "ca97c82a-db57-4a78-a74b-a46dde1cf3ee",
   "metadata": {
    "tags": []
   },
   "source": [
    "### Imports"
   ]
  },
  {
   "cell_type": "code",
   "execution_count": 143,
   "id": "f5ee2682-311a-426c-9891-24097a610316",
   "metadata": {},
   "outputs": [],
   "source": [
    "import yfinance as yf\n",
    "import pandas as pd\n",
    "import numpy as np\n",
    "import matplotlib.pyplot as plt\n",
    "import seaborn as sns\n",
    "\n",
    "from arch import arch_model\n",
    "from sklearn.metrics import mean_squared_error as mse\n",
    "from sklearn.model_selection import RandomizedSearchCV\n",
    "from sklearn.neural_network import MLPRegressor\n",
    "from sklearn.model_selection import TimeSeriesSplit\n",
    "from scipy.stats import norm\n",
    "from sklearn.metrics import mean_squared_error as mse\n",
    "from sklearn.metrics import mean_absolute_error as mae\n",
    "from scipy import stats\n",
    "from statsmodels.graphics.tsaplots import plot_acf, plot_pacf\n",
    "from statsmodels.tsa.stattools import acf, q_stat, adfuller\n",
    "from scipy.stats import probplot, moment\n",
    "from sklearn.svm import SVR\n",
    "from scipy.stats import uniform as sp_rand\n",
    "\n",
    "plt.rcParams[\"figure.figsize\"] = (8, 5)"
   ]
  },
  {
   "cell_type": "markdown",
   "id": "656a7c6c-c30c-4904-b0be-bcdce45ef593",
   "metadata": {
    "tags": []
   },
   "source": [
    "### Getting the data"
   ]
  },
  {
   "cell_type": "code",
   "execution_count": 2,
   "id": "56f344a7-e02e-46ea-92b3-c3fffc90e061",
   "metadata": {},
   "outputs": [],
   "source": [
    "def get_sp500_ticker_list():\n",
    "    \"\"\"\n",
    "    Returns a list with all SP500 tickers\n",
    "    \"\"\"\n",
    "    url = 'https://en.wikipedia.org/wiki/List_of_S%26P_500_companies'\n",
    "    tables = pd.read_html(url)\n",
    "    table = tables[0]\n",
    "    ticker_list = table['Symbol']\n",
    "    return ticker_list"
   ]
  },
  {
   "cell_type": "code",
   "execution_count": 3,
   "id": "2d289221-e4fa-4e3a-bc07-6830638f05ea",
   "metadata": {},
   "outputs": [],
   "source": [
    "def get_sample_ticker(ticker_list, s=5):\n",
    "    sample = ticker_list.sample(s).to_list()\n",
    "    return sample"
   ]
  },
  {
   "cell_type": "code",
   "execution_count": 4,
   "id": "c159ed3d-6d6b-4898-8eb7-21a63ea8033b",
   "metadata": {},
   "outputs": [],
   "source": [
    "def get_adj_close(ticker_list, start, end, interval):\n",
    "    \"\"\"\n",
    "    Returns the adjusted close for a unique ticker as string or a list of tickers.\n",
    "    Format of dates: 'yyyy-mm-dd'\n",
    "    Possible intervals: '1d', '5d', '1mo' \n",
    "    or intraday measures but limited to max a week's worth: '1m', '2m', '5m', '15m', '30m'\n",
    "    \"\"\"\n",
    "    full_df = yf.download(ticker_list, start=start, end=end, interval=interval)\n",
    "    adj_close_df = full_df['Adj Close']\n",
    "    return adj_close_df"
   ]
  },
  {
   "cell_type": "code",
   "execution_count": 5,
   "id": "c710b41a-4774-48aa-a632-bd1367ad42d5",
   "metadata": {},
   "outputs": [],
   "source": [
    "def get_adj_close_df(s=5, start='2020-01-01', end='2021-12-31', interval='1d'):\n",
    "    \"\"\"\n",
    "    Returns the returns df and adj close df for a unique ticker as string or a list of tickers.\n",
    "    n = sample size\n",
    "    Format of dates: 'yyyy-mm-dd'\n",
    "    Possible intervals: '1d', '5d', '1mo' \n",
    "    or intraday measures but limited to max a week's worth: '1m', '2m', '5m', '15m', '30m'\n",
    "    Returns a dataframe of a random sample of the sp500 adj closes over a certain period of time\n",
    "    \"\"\"\n",
    "    sp500_tickers = get_sp500_ticker_list()\n",
    "    sample_tickers = get_sample_ticker(sp500_tickers, s)\n",
    "    full_df = yf.download(sample_tickers, start=start, end=end, interval=interval)\n",
    "    adj_close_df = full_df['Adj Close']\n",
    "    return adj_close_df"
   ]
  },
  {
   "cell_type": "code",
   "execution_count": 6,
   "id": "cd8a595f-ff46-41c8-b09c-6d0623473f47",
   "metadata": {},
   "outputs": [],
   "source": [
    "def get_returns(adj_close_df):\n",
    "    df_returns = (adj_close_df.pct_change())*100\n",
    "    df_returns.dropna(axis=0,inplace=True)\n",
    "    return df_returns"
   ]
  },
  {
   "cell_type": "code",
   "execution_count": 7,
   "id": "ee75c5c7-4f83-49f7-8591-5a9f00df6623",
   "metadata": {},
   "outputs": [],
   "source": [
    "def get_volatility(returns_df):\n",
    "    realized_vol = returns_df.rolling(5).std()\n",
    "    realized_vol.dropna(inplace=True)\n",
    "    return realized_vol"
   ]
  },
  {
   "cell_type": "markdown",
   "id": "2b9633f2",
   "metadata": {},
   "source": [
    "### Data analysis"
   ]
  },
  {
   "cell_type": "code",
   "execution_count": 144,
   "id": "2268247e",
   "metadata": {},
   "outputs": [],
   "source": [
    "def hurst(ts):\n",
    "    \"\"\"Returns the Hurst Exponent of the time series vector ts\"\"\"\n",
    "    # Create the range of lag values\n",
    "    lags = range(2, 100)\n",
    "    \n",
    "    # Calculate the array of the variances of the lagged differences\n",
    "    tau = [np.sqrt(np.std(np.subtract(ts[lag:], ts[:-lag]))) for lag in lags]\n",
    "    \n",
    "    # Use a linear fit to estimate the Hurst Exponent\n",
    "    poly = np.polyfit(np.log(lags), np.log(tau), 1)\n",
    "    \n",
    "    # Return the Hurst exponent from the polyfit output\n",
    "    return poly[0]*2.0"
   ]
  },
  {
   "cell_type": "code",
   "execution_count": 147,
   "id": "1e871976",
   "metadata": {},
   "outputs": [],
   "source": [
    "def plot_correlogram(x, lags=None, title=None):    \n",
    "    lags = min(10, int(len(x)/5)) if lags is None else lags\n",
    "    \n",
    "    #plots layout\n",
    "    fig, axes = plt.subplots(nrows=2, ncols=2, figsize=(12, 8))\n",
    "    \n",
    "    #time series of return on top-left\n",
    "    x.plot(ax=axes[0][0])\n",
    "    q_p = np.max(q_stat(acf(x, nlags=lags), len(x))[1])\n",
    "    stats = f'Q-Stat: {np.max(q_p):>8.2f}\\nADF: {adfuller(x)[1]:>11.2f} \\nHurst: {round(hurst(x.values),2)}'\n",
    "    \n",
    "    #adding stats on top-left plot\n",
    "    axes[0][0].text(x=.02, y=.85, s=stats, transform=axes[0][0].transAxes)\n",
    "    \n",
    "    #plotting qqplot on top-right\n",
    "    probplot(x, plot=axes[0][1])\n",
    "    \n",
    "    #calculating distributions moments\n",
    "    mean, var, skew, kurtosis = moment(x, moment=[1, 2, 3, 4])\n",
    "    s = f'Mean: {mean:>12.2f}\\nSD: {np.sqrt(var):>16.2f}\\nSkew: {skew:12.2f}\\nKurtosis:{kurtosis:9.2f}'\n",
    "    \n",
    "    #adding stats on top-right plot\n",
    "    axes[0][1].text(x=.02, y=.75, s=s, transform=axes[0][1].transAxes)\n",
    "    \n",
    "    #plot autocorrelation\n",
    "    plot_acf(x=x, lags=lags, zero=False, ax=axes[1][0])\n",
    "    axes[1][0].set_xlabel('Lag')\n",
    "    \n",
    "    #plot autocorrelation function\n",
    "    plot_pacf(x, lags=lags, zero=False, ax=axes[1][1])\n",
    "    axes[1][1].set_xlabel('Lag')\n",
    "    \n",
    "    fig.suptitle(title, fontsize=20)\n",
    "    fig.tight_layout()\n",
    "    fig.subplots_adjust(top=.9)"
   ]
  },
  {
   "cell_type": "markdown",
   "id": "122f0f4b-bdbb-47c3-a7a8-10acf0c502ed",
   "metadata": {
    "tags": []
   },
   "source": [
    "### Splitting the dataset by observations"
   ]
  },
  {
   "cell_type": "code",
   "execution_count": 8,
   "id": "7512d4f0-7161-40ad-8497-cd0398cfb63c",
   "metadata": {},
   "outputs": [],
   "source": [
    "def split_df(df, n):\n",
    "    df_test = df.iloc[-n:]\n",
    "    df_train = df.iloc[:-n]\n",
    "    split_date = df.iloc[-n:].index\n",
    "    return df_train, df_test, split_date"
   ]
  },
  {
   "cell_type": "code",
   "execution_count": null,
   "id": "91ad393b-cf43-4bcd-9d15-fa049f79e694",
   "metadata": {},
   "outputs": [],
   "source": [
    "# Cross validation\n",
    "# tscv = TimeSeriesSplit(n_splits=20, test_size=5)\n",
    "# def get_train_test(df):\n",
    "#     train_test_indices = {'train':{}, 'test':{}, 'split_dates': {}}\n",
    "#     for i, (train_index, test_index) in enumerate(tscv.split(df)):\n",
    "#         train_test_indices['train'][i] = train_index\n",
    "#         train_test_indices['test'][i] = test_index\n",
    "#         train_test_indices['split_dates'][i] = test_index[0]\n",
    "#     return train_test_indices\n",
    "# returns_splits = get_train_test(returns_df)\n",
    "# volatility_splits = get_train_test(volatility_df)"
   ]
  },
  {
   "cell_type": "markdown",
   "id": "b886ff03-d137-424a-9aec-a7fe2ec31e20",
   "metadata": {
    "tags": []
   },
   "source": [
    "### GARCH"
   ]
  },
  {
   "cell_type": "code",
   "execution_count": 9,
   "id": "55db306a-fda7-4d9f-9312-d07616a678ea",
   "metadata": {},
   "outputs": [],
   "source": [
    "def garch(returns, n):\n",
    "\n",
    "    aic_garch = []\n",
    "\n",
    "    for p in range(1, 5): \n",
    "        for q in range(1, 5):\n",
    "            garch = arch_model(returns, mean='zero', vol='GARCH', p=p, q=q)\\\n",
    "                .fit(disp='off') \n",
    "            aic_garch.append(garch.aic) \n",
    "\n",
    "            if garch.aic == np.min(aic_garch): \n",
    "                best_param = (p,q) \n",
    "    \n",
    "    #fitting the best GARCH model\n",
    "    garch = arch_model(returns, mean='zero', vol='GARCH', p=best_param[0], q=best_param[1]).fit(disp='off')\n",
    "\n",
    "    #forecasts\n",
    "    forecasts = garch.forecast(horizon=n, reindex=False)\n",
    "    #forecasts = garch.forecast(horizon=50, start=split_date[0], reindex=True)\n",
    "    return forecasts, forecasts.residual_variance.dropna().transpose()"
   ]
  },
  {
   "cell_type": "code",
   "execution_count": 10,
   "id": "74fcb02f-c800-49a7-9169-db355ed826eb",
   "metadata": {},
   "outputs": [],
   "source": [
    "def get_rmse(residuals, realized_vol):\n",
    "    rmse = np.sqrt(mse(realized_vol/100, np.sqrt(residuals/100)))\n",
    "    return rmse"
   ]
  },
  {
   "cell_type": "markdown",
   "id": "c7e0654b-9881-4e37-a5ed-f555044a04de",
   "metadata": {},
   "source": [
    "### ARCH"
   ]
  },
  {
   "cell_type": "code",
   "execution_count": 11,
   "id": "3c404755-90af-42d3-bf87-d6617e57af1f",
   "metadata": {},
   "outputs": [],
   "source": [
    "def arch(returns, n):\n",
    "    aic_arch = []\n",
    "\n",
    "    for p in range(1, 5): # Iterating ARCH parameter p\n",
    "        arch = arch_model(returns, mean='zero', vol='ARCH', p=p)\\\n",
    "             .fit(disp='off') # Running ARCH(p)\n",
    "        aic_arch.append(arch.aic) # Storing aic for the ARCH(p)\n",
    "\n",
    "        if arch.aic == np.min(aic_arch): \n",
    "             best_param = p # Finding the minimum AIC score\n",
    "                \n",
    "    # Fitting best arch\n",
    "    arch = arch_model(returns, mean='zero', vol='ARCH', p=best_param)\\\n",
    "         .fit(disp='off')\n",
    "    \n",
    "    forecasts = arch.forecast(horizon=n, reindex=False)\n",
    "    \n",
    "    return forecasts, forecasts.residual_variance.dropna().transpose()"
   ]
  },
  {
   "cell_type": "markdown",
   "id": "85028aa3-61b1-4c1c-b630-5fc70f4087af",
   "metadata": {},
   "source": [
    "### GJR garch"
   ]
  },
  {
   "cell_type": "code",
   "execution_count": 12,
   "id": "2fc0c467-5731-4172-bf12-950a36962769",
   "metadata": {},
   "outputs": [],
   "source": [
    "def gjr_garch(returns, n):\n",
    "    aic_gjr_garch = []\n",
    "\n",
    "    for p in range(1, 5): \n",
    "        for q in range(1, 5):\n",
    "            gjr_garch = arch_model(returns, mean='zero', vol='GARCH', p=p, o=1, q=q)\\\n",
    "                 .fit(disp='off') \n",
    "            aic_gjr_garch.append(gjr_garch.aic) \n",
    "\n",
    "            if gjr_garch.aic == np.min(aic_gjr_garch): \n",
    "                 best_param = p, q # Finding the minimum AIC score\n",
    "    \n",
    "    gjr_garch = arch_model(returns, mean='zero', vol='ARCH', p=best_param[0], o=1,\n",
    "                       q=best_param[1]).fit(disp='off')\n",
    "    \n",
    "    forecasts = gjr_garch.forecast(horizon=n, reindex=True)\n",
    "    \n",
    "    return forecasts, forecasts.residual_variance.dropna().transpose()"
   ]
  },
  {
   "cell_type": "markdown",
   "id": "42224fd5-729f-4f6f-83c4-93817b55b844",
   "metadata": {},
   "source": [
    "### EGARCH"
   ]
  },
  {
   "cell_type": "code",
   "execution_count": 13,
   "id": "75145c60-8213-4f60-acc2-ed11298e0998",
   "metadata": {},
   "outputs": [],
   "source": [
    "def egarch(returns, n):\n",
    "    aic_egarch = []\n",
    "\n",
    "    for p in range(1, 5):\n",
    "        for q in range(1, 5):\n",
    "            egarch = arch_model(returns, mean='zero', vol='EGARCH', p=p, q=q)\\\n",
    "                  .fit(disp='off')\n",
    "            aic_egarch.append(egarch.aic)\n",
    "            if egarch.aic == np.min(aic_egarch):\n",
    "                best_param = (p, q)\n",
    "    \n",
    "    egarch = arch_model(returns, mean='zero', vol='EGARCH',\n",
    "                        p=best_param[0], q=best_param[1], dist=\"skewt\").fit(disp='off')\n",
    "    \n",
    "    forecasts = egarch.forecast(horizon=n, method='simulation', reindex=False)\n",
    "    \n",
    "    return forecasts, forecasts.residual_variance.dropna().transpose()"
   ]
  },
  {
   "cell_type": "markdown",
   "id": "8fcaeb47-52a5-4828-94cf-1f4c025faf2e",
   "metadata": {},
   "source": [
    "### Neural nets, preprocessing"
   ]
  },
  {
   "cell_type": "code",
   "execution_count": 14,
   "id": "3af32376-5ab2-4199-bbf2-14a883f8ee53",
   "metadata": {},
   "outputs": [],
   "source": [
    "def get_svm_volatility(volatility_df):\n",
    "    realized_vol = {}\n",
    "    for ticker in volatility_df.columns:\n",
    "        realized_vol[ticker] = pd.DataFrame(volatility_df[ticker]).reset_index(drop=True)\n",
    "    return realized_vol"
   ]
  },
  {
   "cell_type": "code",
   "execution_count": 15,
   "id": "4f6f3202-7ac9-4c62-a4e3-5c4310b04a68",
   "metadata": {},
   "outputs": [],
   "source": [
    "def get_svm_returns(returns_df):\n",
    "    returns_svm = {}\n",
    "    for ticker in returns_df.columns:\n",
    "        returns_svm[ticker] = returns_df[ticker]**2\n",
    "        returns_svm[ticker] = returns_svm[ticker].reset_index()\n",
    "        del returns_svm[ticker]['Date']\n",
    "    return returns_svm"
   ]
  },
  {
   "cell_type": "code",
   "execution_count": 16,
   "id": "c8a07ca1-158e-476d-bf0c-cd26ee4c6dce",
   "metadata": {},
   "outputs": [],
   "source": [
    "def concat_ret_vol(returns_df, volatility_df):\n",
    "    Xs = {}\n",
    "    realized_vol = get_svm_volatility(volatility_df)#[:-4]\n",
    "    returns_svm = get_svm_returns(returns_df)\n",
    "    for ticker in volatility_df.keys():\n",
    "        Xs[ticker] = pd.concat([realized_vol[ticker], returns_svm[ticker][:-4]], axis=1, ignore_index=True)\n",
    "        \n",
    "    return Xs"
   ]
  },
  {
   "cell_type": "code",
   "execution_count": null,
   "id": "13411b68-30e5-4b85-8164-439b5e6241aa",
   "metadata": {},
   "outputs": [],
   "source": [
    "# def get_train_test_svm(Xs, n=50):\n",
    "#     Xs_splitted = {}\n",
    "#     for ticker, X in Xs.items():\n",
    "#         Xs_splitted[ticker] = {}\n",
    "#         Xs_splitted[ticker]['train'] = X.iloc[:-n]\n",
    "#         Xs_splitted[ticker]['test'] = X.iloc[-n:]\n",
    "#     return Xs_splitted"
   ]
  },
  {
   "cell_type": "markdown",
   "id": "111b849e-65f4-41ca-8987-f73b337ea51b",
   "metadata": {},
   "source": [
    "<!-- Xs_splitted = get_train_test_svm(Xs, n=50) -->"
   ]
  },
  {
   "cell_type": "markdown",
   "id": "7481f1f9-8eb9-443a-bda2-5b4ec3854032",
   "metadata": {},
   "source": [
    "### Neural Nets"
   ]
  },
  {
   "attachments": {
    "simpleANN.png": {
     "image/png": "[encoded data removed]"
    }
   },
   "cell_type": "markdown",
   "id": "f7ee624e",
   "metadata": {},
   "source": [
    "### A primer on Artificial Neural Networks\n",
    "\n",
    "A **artificial neural network** is an interconnection of neurons such that their output is connected, with a weight, to the inputs of other neurons. The most common neural architecture is the **Multi-Layer Perceptron** (MLP). This is the one we used in this work.  \n",
    "A MLP is composed of one (passthrough) **input layer**, one or more intermediate layers, called **hidden layers**, and one final layer called the **output layer**. When an ANN contains a several hidden layers, it is called a **deep neural network** (DNN). \n",
    "![simpleANN.png](attachment:simpleANN.png)\n",
    "However, in our case, we will limit the theoretical presentation to a single hidden layer, because the deep neural case is just a generalisation to n-layers. \n",
    "\n",
    "In short an artificial neural network proceeds as follow:\n",
    "- First, each neuron is fueled by some inputs. Each input is weighted by a weight $w_{kj} \\quad \\forall j \\in \\{1,...,J\\}$ and $\\forall k \\in \\{1,...,K\\}$. \n",
    "- Then, the neuron acts like a processor a compute a sum of the inputs weighted their respective weight.\n",
    "$$ net_k = \\sum_{j=1}^J w_{kj} y_j$$\n",
    "- The output $o_k$ is then given by application of an activation function $ o_k = f_k(net_k)$\n",
    "\n",
    "But, how the optimal weights are choosen?\n",
    "\n",
    "The **error backpropagating** algorithm is currently the most used learning algorithm. The backpropagation algorithm can find out how each connection weight and each term bias should be tweaked (adjusted) to reduce the error term (difference between predicted outputs and expected outputs). \n",
    "\n",
    "- For each training instance, the backpropagation algorithm first makes a prediction (forward pass) and measures the error\n",
    "- It goes through each layer in reverse to measure the error contribution from each connection (backpropagation)\n",
    "- Finally tweaks the connection weights to reduce the error using a Gradient steep descent.\n",
    "\n",
    "##### Mathematical presentation of the backpropagating algorithm\n",
    "\n",
    "\n",
    "\n",
    "\n",
    "The inputs and outputs can be represented by vectors:\n",
    "\\begin{align}\n",
    "y &= \\begin{bmatrix}\n",
    "           y_{1} \\\\\n",
    "           y_{2} \\\\\n",
    "           \\vdots \\\\\n",
    "           y_{J}\n",
    "         \\end{bmatrix}\n",
    "\\end{align}\n",
    "\n",
    "\\begin{align}\n",
    "o &= \\begin{bmatrix}\n",
    "           o_{1} \\\\\n",
    "           o_{2} \\\\\n",
    "           \\vdots \\\\\n",
    "           o_{K}\n",
    "         \\end{bmatrix}\n",
    "\\end{align}\n",
    "\n",
    "... should be ended"
   ]
  },
  {
   "cell_type": "code",
   "execution_count": 17,
   "id": "93722739-fc91-40ad-a5d7-4c91d363c955",
   "metadata": {},
   "outputs": [],
   "source": [
    "def neural_net(Xs, n, NN_vol, para_grid_NN):\n",
    "    X_predictions = {}\n",
    "    for ticker, X in Xs.items():\n",
    "        realized_vol = X[0]\n",
    "        clf = RandomizedSearchCV(NN_vol, para_grid_NN)\n",
    "        clf.fit(X.iloc[:-n].values,\n",
    "            realized_vol.iloc[1:-(n-1)].values.reshape(-1, ))\n",
    "        X_predictions[ticker] = clf.predict(X.iloc[-n:])\n",
    "    return X_predictions"
   ]
  },
  {
   "cell_type": "markdown",
   "id": "6ffbfde7-bf25-464b-87cf-2dc69cccc8c7",
   "metadata": {},
   "source": [
    "### RMSES"
   ]
  },
  {
   "cell_type": "code",
   "execution_count": 18,
   "id": "3b6cf6b1-19ce-40ef-9f95-34ccb7101376",
   "metadata": {},
   "outputs": [],
   "source": [
    "def get_rmses(s, n, start, end, interval):\n",
    "    \"\"\"\n",
    "    s = how many companies\n",
    "    n = sample size for testing\n",
    "    \"\"\"\n",
    "    NN_vol = MLPRegressor(learning_rate_init=0.001, random_state=1)\n",
    "    para_grid_NN = {'hidden_layer_sizes': [(100, 50), (50, 50), (10, 100)],\n",
    "                'max_iter': [15000, 30000],\n",
    "                'alpha': [0.00005, 0.0005 ]}\n",
    "    rmses = {}\n",
    "    \n",
    "    # Get data\n",
    "    adj_close_df = get_adj_close_df(s=s, start=start, end=end, interval=interval)\n",
    "    \n",
    "    # Get returns and volatility for arch type models\n",
    "    returns_df = get_returns(adj_close_df)\n",
    "    volatility_df = get_volatility(returns_df)\n",
    "    \n",
    "    # Splitting sets for arch type models\n",
    "    df_train_vol, df_test_vol, split_date = split_df(volatility_df, n)\n",
    "    df_train_ret, df_test_ret, split_date = split_df(returns_df, n)\n",
    "    \n",
    "    # Neural net preprocessing\n",
    "    Xs = concat_ret_vol(returns_df, volatility_df)\n",
    "    nn_predictions = neural_net(Xs, n, NN_vol, para_grid_NN)\n",
    "    \n",
    "    # Getting rmses\n",
    "    for ticker in df_test_vol.columns:\n",
    "        rmses[ticker] = {}\n",
    "        \n",
    "        #Neural net\n",
    "        rmses[ticker]['nn'] = np.sqrt(mse(df_test_vol[ticker] / 100, nn_predictions[ticker] / 100))\n",
    "        \n",
    "        #Garch\n",
    "        forecasts, residuals = garch(df_train_ret[ticker], n)\n",
    "        rmses[ticker]['garch'] = get_rmse(residuals, df_test_vol[ticker])\n",
    "        \n",
    "        #Arch\n",
    "        forecasts, residuals = garch(df_train_ret[ticker], n)\n",
    "        rmses[ticker]['arch'] = get_rmse(residuals, df_test_vol[ticker])\n",
    "        \n",
    "        #GJR-garch\n",
    "        forecasts, residuals = gjr_garch(df_train_ret[ticker], n)\n",
    "        rmses[ticker]['gjr_garch'] = get_rmse(residuals, df_test_vol[ticker])\n",
    "        \n",
    "        #Egarch\n",
    "        forecasts, residuals = egarch(df_train_ret[ticker], n)\n",
    "        rmses[ticker]['egarch'] = get_rmse(residuals, df_test_vol[ticker])\n",
    "        \n",
    "    return rmses"
   ]
  },
  {
   "cell_type": "code",
   "execution_count": 23,
   "id": "477bce23-0fd1-4350-8679-ee42e5aa7e8b",
   "metadata": {},
   "outputs": [
    {
     "name": "stdout",
     "output_type": "stream",
     "text": [
      "[*********************100%***********************]  5 of 5 completed\n"
     ]
    },
    {
     "name": "stderr",
     "output_type": "stream",
     "text": [
      "C:\\Users\\antoi\\anaconda3\\lib\\site-packages\\arch\\univariate\\base.py:753: ConvergenceWarning: The optimizer returned code 9. The message is:\n",
      "Iteration limit reached\n",
      "See scipy.optimize.fmin_slsqp for code meaning.\n",
      "\n",
      "  warnings.warn(\n",
      "C:\\Users\\antoi\\anaconda3\\lib\\site-packages\\arch\\univariate\\base.py:753: ConvergenceWarning: The optimizer returned code 9. The message is:\n",
      "Iteration limit reached\n",
      "See scipy.optimize.fmin_slsqp for code meaning.\n",
      "\n",
      "  warnings.warn(\n",
      "C:\\Users\\antoi\\anaconda3\\lib\\site-packages\\arch\\univariate\\base.py:753: ConvergenceWarning: The optimizer returned code 9. The message is:\n",
      "Iteration limit reached\n",
      "See scipy.optimize.fmin_slsqp for code meaning.\n",
      "\n",
      "  warnings.warn(\n",
      "C:\\Users\\antoi\\anaconda3\\lib\\site-packages\\arch\\univariate\\base.py:753: ConvergenceWarning: The optimizer returned code 9. The message is:\n",
      "Iteration limit reached\n",
      "See scipy.optimize.fmin_slsqp for code meaning.\n",
      "\n",
      "  warnings.warn(\n",
      "C:\\Users\\antoi\\anaconda3\\lib\\site-packages\\arch\\univariate\\base.py:753: ConvergenceWarning: The optimizer returned code 9. The message is:\n",
      "Iteration limit reached\n",
      "See scipy.optimize.fmin_slsqp for code meaning.\n",
      "\n",
      "  warnings.warn(\n",
      "C:\\Users\\antoi\\anaconda3\\lib\\site-packages\\arch\\univariate\\base.py:753: ConvergenceWarning: The optimizer returned code 9. The message is:\n",
      "Iteration limit reached\n",
      "See scipy.optimize.fmin_slsqp for code meaning.\n",
      "\n",
      "  warnings.warn(\n",
      "C:\\Users\\antoi\\anaconda3\\lib\\site-packages\\arch\\univariate\\base.py:753: ConvergenceWarning: The optimizer returned code 9. The message is:\n",
      "Iteration limit reached\n",
      "See scipy.optimize.fmin_slsqp for code meaning.\n",
      "\n",
      "  warnings.warn(\n",
      "C:\\Users\\antoi\\anaconda3\\lib\\site-packages\\arch\\univariate\\base.py:753: ConvergenceWarning: The optimizer returned code 4. The message is:\n",
      "Inequality constraints incompatible\n",
      "See scipy.optimize.fmin_slsqp for code meaning.\n",
      "\n",
      "  warnings.warn(\n",
      "C:\\Users\\antoi\\anaconda3\\lib\\site-packages\\arch\\univariate\\base.py:753: ConvergenceWarning: The optimizer returned code 9. The message is:\n",
      "Iteration limit reached\n",
      "See scipy.optimize.fmin_slsqp for code meaning.\n",
      "\n",
      "  warnings.warn(\n",
      "C:\\Users\\antoi\\anaconda3\\lib\\site-packages\\arch\\univariate\\base.py:753: ConvergenceWarning: The optimizer returned code 4. The message is:\n",
      "Inequality constraints incompatible\n",
      "See scipy.optimize.fmin_slsqp for code meaning.\n",
      "\n",
      "  warnings.warn(\n",
      "C:\\Users\\antoi\\anaconda3\\lib\\site-packages\\arch\\univariate\\base.py:753: ConvergenceWarning: The optimizer returned code 9. The message is:\n",
      "Iteration limit reached\n",
      "See scipy.optimize.fmin_slsqp for code meaning.\n",
      "\n",
      "  warnings.warn(\n",
      "C:\\Users\\antoi\\anaconda3\\lib\\site-packages\\arch\\univariate\\base.py:753: ConvergenceWarning: The optimizer returned code 9. The message is:\n",
      "Iteration limit reached\n",
      "See scipy.optimize.fmin_slsqp for code meaning.\n",
      "\n",
      "  warnings.warn(\n",
      "C:\\Users\\antoi\\anaconda3\\lib\\site-packages\\arch\\univariate\\base.py:753: ConvergenceWarning: The optimizer returned code 9. The message is:\n",
      "Iteration limit reached\n",
      "See scipy.optimize.fmin_slsqp for code meaning.\n",
      "\n",
      "  warnings.warn(\n"
     ]
    },
    {
     "data": {
      "text/html": [
       "<div>\n",
       "<style scoped>\n",
       "    .dataframe tbody tr th:only-of-type {\n",
       "        vertical-align: middle;\n",
       "    }\n",
       "\n",
       "    .dataframe tbody tr th {\n",
       "        vertical-align: top;\n",
       "    }\n",
       "\n",
       "    .dataframe thead th {\n",
       "        text-align: right;\n",
       "    }\n",
       "</style>\n",
       "<table border=\"1\" class=\"dataframe\">\n",
       "  <thead>\n",
       "    <tr style=\"text-align: right;\">\n",
       "      <th></th>\n",
       "      <th>CL</th>\n",
       "      <th>MTB</th>\n",
       "      <th>PRU</th>\n",
       "      <th>UHS</th>\n",
       "      <th>YUM</th>\n",
       "    </tr>\n",
       "  </thead>\n",
       "  <tbody>\n",
       "    <tr>\n",
       "      <th>nn</th>\n",
       "      <td>0.001417</td>\n",
       "      <td>0.000863</td>\n",
       "      <td>0.001182</td>\n",
       "      <td>0.000732</td>\n",
       "      <td>0.000346</td>\n",
       "    </tr>\n",
       "    <tr>\n",
       "      <th>garch</th>\n",
       "      <td>0.132922</td>\n",
       "      <td>0.093287</td>\n",
       "      <td>0.106707</td>\n",
       "      <td>0.119019</td>\n",
       "      <td>0.069920</td>\n",
       "    </tr>\n",
       "    <tr>\n",
       "      <th>arch</th>\n",
       "      <td>0.132922</td>\n",
       "      <td>0.093287</td>\n",
       "      <td>0.106707</td>\n",
       "      <td>0.119019</td>\n",
       "      <td>0.069920</td>\n",
       "    </tr>\n",
       "    <tr>\n",
       "      <th>gjr_garch</th>\n",
       "      <td>0.132925</td>\n",
       "      <td>0.093287</td>\n",
       "      <td>0.106335</td>\n",
       "      <td>0.106023</td>\n",
       "      <td>0.068515</td>\n",
       "    </tr>\n",
       "    <tr>\n",
       "      <th>egarch</th>\n",
       "      <td>0.063374</td>\n",
       "      <td>0.041601</td>\n",
       "      <td>0.093687</td>\n",
       "      <td>0.076290</td>\n",
       "      <td>0.074989</td>\n",
       "    </tr>\n",
       "  </tbody>\n",
       "</table>\n",
       "</div>"
      ],
      "text/plain": [
       "                 CL       MTB       PRU       UHS       YUM\n",
       "nn         0.001417  0.000863  0.001182  0.000732  0.000346\n",
       "garch      0.132922  0.093287  0.106707  0.119019  0.069920\n",
       "arch       0.132922  0.093287  0.106707  0.119019  0.069920\n",
       "gjr_garch  0.132925  0.093287  0.106335  0.106023  0.068515\n",
       "egarch     0.063374  0.041601  0.093687  0.076290  0.074989"
      ]
     },
     "execution_count": 23,
     "metadata": {},
     "output_type": "execute_result"
    }
   ],
   "source": [
    "sample_daily_1y = get_rmses(s=5, n=5, start='2017-01-17', end='2017-03-17', interval='1d')\n",
    "sample_daily_1y_df = pd.DataFrame(sample_daily_1y)\n",
    "sample_daily_1y_df.to_csv('sample_daily_1y.csv')\n",
    "sample_daily_1y_df = pd.read_csv('sample_daily_1y.csv', index_col=0)\n",
    "sample_daily_1y_df"
   ]
  },
  {
   "cell_type": "code",
   "execution_count": 24,
   "id": "cc616d32-766a-4afc-90c6-46be2a69cb20",
   "metadata": {},
   "outputs": [],
   "source": [
    "def plot_rmse(single_stock, e, title):\n",
    "    if e == 0:\n",
    "        models = ['Neural Net', 'Garch', 'Arch', 'Gjr-garch', 'Egarch']\n",
    "        values = single_stock\n",
    "    else:\n",
    "        models = ['Neural Net', 'Garch', 'Arch', 'Gjr-garch']\n",
    "        values = single_stock[:-1]\n",
    "        \n",
    "    fig = plt.figure()\n",
    "    ax = fig.add_axes([0,0,1,1])\n",
    "    ax.barh(models, values, color=\"salmon\", alpha=0.9)\n",
    "    plt.title(title)\n",
    "    plt.show()"
   ]
  },
  {
   "cell_type": "code",
   "execution_count": 25,
   "id": "dab32dcd-67cc-48af-9e83-be35e307374c",
   "metadata": {},
   "outputs": [
    {
     "data": {
      "image/png": "[encoded data removed]",
      "text/plain": [
       "<Figure size 576x360 with 1 Axes>"
      ]
     },
     "metadata": {
      "needs_background": "light"
     },
     "output_type": "display_data"
    },
    {
     "data": {
      "image/png": "[encoded data removed]",
      "text/plain": [
       "<Figure size 576x360 with 1 Axes>"
      ]
     },
     "metadata": {
      "needs_background": "light"
     },
     "output_type": "display_data"
    },
    {
     "data": {
      "image/png": "[encoded data removed]",
      "text/plain": [
       "<Figure size 576x360 with 1 Axes>"
      ]
     },
     "metadata": {
      "needs_background": "light"
     },
     "output_type": "display_data"
    },
    {
     "data": {
      "image/png": "[encoded data removed]",
      "text/plain": [
       "<Figure size 576x360 with 1 Axes>"
      ]
     },
     "metadata": {
      "needs_background": "light"
     },
     "output_type": "display_data"
    },
    {
     "data": {
      "image/png": "[encoded data removed]",
      "text/plain": [
       "<Figure size 576x360 with 1 Axes>"
      ]
     },
     "metadata": {
      "needs_background": "light"
     },
     "output_type": "display_data"
    }
   ],
   "source": [
    "for ticker in sample_daily_1y_df.columns:\n",
    "    plot_rmse(sample_daily_1y_df[ticker], 0, f'Daily volatility prediction for {ticker} RMSE/model')"
   ]
  },
  {
   "cell_type": "code",
   "execution_count": null,
   "id": "19a6926d-3b02-4b37-aaf1-7323cdcfd2bf",
   "metadata": {},
   "outputs": [],
   "source": [
    "#sample_weekly_10y_df = pd.read_csv('sample_weekly_10y.csv', index_col=0)\n",
    "#sample_weekly_10y_df"
   ]
  },
  {
   "cell_type": "code",
   "execution_count": null,
   "id": "64d92b52-4433-4575-9ad7-654792dab1e0",
   "metadata": {},
   "outputs": [],
   "source": [
    "for ticker in sample_weekly_10y_df.columns:\n",
    "    plot_rmse(sample_weekly_10y_df[ticker], 1, f'Weekly volatility prediction for {ticker} RMSE/model')"
   ]
  },
  {
   "cell_type": "markdown",
   "id": "a71bf81b",
   "metadata": {},
   "source": [
    "## Application"
   ]
  },
  {
   "cell_type": "code",
   "execution_count": 139,
   "id": "17904f69",
   "metadata": {},
   "outputs": [],
   "source": [
    "def var(s, n, start, end, interval, amount, level): \n",
    "    \"\"\"\n",
    "    s = how many companies\n",
    "    n = sample size for testing\n",
    "    \"\"\"\n",
    "    NN_vol = MLPRegressor(learning_rate_init=0.001, random_state=1)\n",
    "    para_grid_NN = {'hidden_layer_sizes': [(100, 50), (50, 50), (10, 100)],\n",
    "                'max_iter': [15000, 30000],\n",
    "                'alpha': [0.00005, 0.0005 ]}\n",
    "    rmses = {}\n",
    "    \n",
    "    # Get data\n",
    "    adj_close_df = get_adj_close_df(s=s, start=start, end=end, interval=interval)\n",
    "    \n",
    "    # Get returns and volatility for arch type models\n",
    "    returns_df = get_returns(adj_close_df)\n",
    "    volatility_df = get_volatility(returns_df)\n",
    "    \n",
    "    # Splitting sets for arch type models\n",
    "    df_train_vol, df_test_vol, split_date = split_df(volatility_df, n)\n",
    "    df_train_ret, df_test_ret, split_date = split_df(returns_df, n)\n",
    "    \n",
    "    # Neural net preprocessing\n",
    "    Xs = concat_ret_vol(returns_df, volatility_df)\n",
    "    nn_predictions = neural_net(Xs, n, NN_vol, para_grid_NN)\n",
    "    \n",
    "    #Value at risk calculation\n",
    "    var_dic = {}\n",
    "    values = list(nn_predictions.values())\n",
    "    i=0\n",
    "    \n",
    "    a = np.random.random(s)\n",
    "    weights = a/(a.sum())\n",
    "    \n",
    "    for key in nn_predictions:\n",
    "        var = norm.ppf(level)*(values[i][-1])/100*amount*weights[i]\n",
    "        var_dic[key] = var\n",
    "        i=i+1\n",
    "    \n",
    "    plt.bar(range(len(var_dic)), list(var_dic.values()), align='center')\n",
    "    plt.xticks(range(len(var_dic)), list(var_dic.keys()))\n",
    "    plt.title(\"1% VaR of a 5-day horizon\")\n",
    "    plt.show()\n",
    "    \n",
    "    return var_dic"
   ]
  },
  {
   "cell_type": "code",
   "execution_count": 140,
   "id": "ec0eb0e3",
   "metadata": {},
   "outputs": [
    {
     "name": "stdout",
     "output_type": "stream",
     "text": [
      "[*********************100%***********************]  5 of 5 completed\n"
     ]
    },
    {
     "data": {
      "image/png": "[encoded data removed]",
      "text/plain": [
       "<Figure size 576x360 with 1 Axes>"
      ]
     },
     "metadata": {
      "needs_background": "light"
     },
     "output_type": "display_data"
    }
   ],
   "source": [
    "var = var(s=5, n=5, start='2017-01-17', end='2017-03-17', interval='1d', amount=1000000, level=0.99)"
   ]
  },
  {
   "cell_type": "code",
   "execution_count": null,
   "id": "2d0f7eda",
   "metadata": {},
   "outputs": [],
   "source": [
    "# Get data\n",
    "    adj_close_df = get_adj_close_df(s=s, start=start, end=end, interval=interval)\n",
    "    \n",
    "    # Get returns and volatility for arch type models\n",
    "    returns_df = get_returns(adj_close_df)\n",
    "    volatility_df = get_volatility(returns_df)\n",
    "    \n",
    "    # Splitting sets for arch type models\n",
    "    df_train_vol, df_test_vol, split_date = split_df(volatility_df, n)\n",
    "    df_train_ret, df_test_ret, split_date = split_df(returns_df, n)\n",
    "    \n",
    "    # Neural net preprocessing\n",
    "    Xs = concat_ret_vol(returns_df, volatility_df)\n",
    "    nn_predictions = neural_net(Xs, n, NN_vol, para_grid_NN)\n",
    "    return nn_predictions"
   ]
  },
  {
   "cell_type": "markdown",
   "id": "e0b08925-edc7-4fb6-9848-21b32438a459",
   "metadata": {},
   "source": [
    "### Notes\n",
    "- Does not work with anything else than n=50, look why\n",
    "- Does not work with intraday data bc key 'Date' doesn't exist, probably different shape\n",
    "- Compute application of VaR\n",
    "- Understand NN more, could impress them\n",
    "- Drop weekly analysis, focus on daily bc that's what's interesting for or applications\n",
    "- Plot correlating skewness and rmse neural networks for different stocks"
   ]
  },
  {
   "cell_type": "code",
   "execution_count": null,
   "id": "1491e982-1c2d-44e1-aa42-95b81ce6c1c9",
   "metadata": {},
   "outputs": [],
   "source": []
  }
 ],
 "metadata": {
  "kernelspec": {
   "display_name": "Python 3 (ipykernel)",
   "language": "python",
   "name": "python3"
  },
  "language_info": {
   "codemirror_mode": {
    "name": "ipython",
    "version": 3
   },
   "file_extension": ".py",
   "mimetype": "text/x-python",
   "name": "python",
   "nbconvert_exporter": "python",
   "pygments_lexer": "ipython3",
   "version": "3.9.7"
  }
 },
 "nbformat": 4,
 "nbformat_minor": 5
}
