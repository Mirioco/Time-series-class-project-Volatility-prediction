{
 "cells": [
  {
   "cell_type": "code",
   "execution_count": 1,
   "id": "8c88f577-5bff-4d6c-b980-f4e22071c96d",
   "metadata": {},
   "outputs": [],
   "source": [
    "from data_handler import get_adj_close"
   ]
  },
  {
   "cell_type": "code",
   "execution_count": 3,
   "id": "8ba5ca99-d34f-4395-a5bf-664bfecfd08f",
   "metadata": {},
   "outputs": [
    {
     "name": "stdout",
     "output_type": "stream",
     "text": [
      "[*********************100%***********************]  3 of 3 completed\n"
     ]
    }
   ],
   "source": [
    "start='2018-01-01'\n",
    "end='2020-12-31'\n",
    "interval='1mo'\n",
    "ticker_list = ['AAPL', 'NVDA', 'FTNT']\n",
    "\n",
    "df = get_adj_close(ticker_list, start, end, interval)"
   ]
  },
  {
   "cell_type": "code",
   "execution_count": 4,
   "id": "0f5af6c3-bdd2-468f-bd86-a99e3a5128b0",
   "metadata": {},
   "outputs": [
    {
     "data": {
      "text/html": [
       "<div>\n",
       "<style scoped>\n",
       "    .dataframe tbody tr th:only-of-type {\n",
       "        vertical-align: middle;\n",
       "    }\n",
       "\n",
       "    .dataframe tbody tr th {\n",
       "        vertical-align: top;\n",
       "    }\n",
       "\n",
       "    .dataframe thead th {\n",
       "        text-align: right;\n",
       "    }\n",
       "</style>\n",
       "<table border=\"1\" class=\"dataframe\">\n",
       "  <thead>\n",
       "    <tr style=\"text-align: right;\">\n",
       "      <th></th>\n",
       "      <th>AAPL</th>\n",
       "      <th>FTNT</th>\n",
       "      <th>NVDA</th>\n",
       "    </tr>\n",
       "    <tr>\n",
       "      <th>Date</th>\n",
       "      <th></th>\n",
       "      <th></th>\n",
       "      <th></th>\n",
       "    </tr>\n",
       "  </thead>\n",
       "  <tbody>\n",
       "    <tr>\n",
       "      <th>2018-01-01</th>\n",
       "      <td>39.982349</td>\n",
       "      <td>46.040001</td>\n",
       "      <td>60.876518</td>\n",
       "    </tr>\n",
       "    <tr>\n",
       "      <th>2018-02-01</th>\n",
       "      <td>42.535114</td>\n",
       "      <td>50.470001</td>\n",
       "      <td>59.935383</td>\n",
       "    </tr>\n",
       "    <tr>\n",
       "      <th>2018-02-09</th>\n",
       "      <td>NaN</td>\n",
       "      <td>NaN</td>\n",
       "      <td>NaN</td>\n",
       "    </tr>\n",
       "    <tr>\n",
       "      <th>2018-02-22</th>\n",
       "      <td>NaN</td>\n",
       "      <td>NaN</td>\n",
       "      <td>NaN</td>\n",
       "    </tr>\n",
       "    <tr>\n",
       "      <th>2018-03-01</th>\n",
       "      <td>40.229279</td>\n",
       "      <td>53.580002</td>\n",
       "      <td>57.392811</td>\n",
       "    </tr>\n",
       "  </tbody>\n",
       "</table>\n",
       "</div>"
      ],
      "text/plain": [
       "                 AAPL       FTNT       NVDA\n",
       "Date                                       \n",
       "2018-01-01  39.982349  46.040001  60.876518\n",
       "2018-02-01  42.535114  50.470001  59.935383\n",
       "2018-02-09        NaN        NaN        NaN\n",
       "2018-02-22        NaN        NaN        NaN\n",
       "2018-03-01  40.229279  53.580002  57.392811"
      ]
     },
     "execution_count": 4,
     "metadata": {},
     "output_type": "execute_result"
    }
   ],
   "source": [
    "df.head()"
   ]
  },
  {
   "cell_type": "code",
   "execution_count": null,
   "id": "58cebe9e-4d1f-43bf-8837-326cc50347e5",
   "metadata": {},
   "outputs": [],
   "source": []
  }
 ],
 "metadata": {
  "kernelspec": {
   "display_name": "Python 3 (ipykernel)",
   "language": "python",
   "name": "python3"
  },
  "language_info": {
   "codemirror_mode": {
    "name": "ipython",
    "version": 3
   },
   "file_extension": ".py",
   "mimetype": "text/x-python",
   "name": "python",
   "nbconvert_exporter": "python",
   "pygments_lexer": "ipython3",
   "version": "3.9.7"
  }
 },
 "nbformat": 4,
 "nbformat_minor": 5
}
