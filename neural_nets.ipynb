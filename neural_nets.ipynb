{
 "cells": [
  {
   "cell_type": "code",
   "execution_count": 1,
   "id": "8fef7d80-9a31-4f0d-9f2b-b28d4bdb5b9c",
   "metadata": {},
   "outputs": [],
   "source": [
    "import pandas as pd\n",
    "import yfinance as yf\n",
    "import numpy as np\n",
    "import matplotlib.pyplot as plt\n",
    "\n",
    "from sklearn.neural_network import MLPRegressor\n",
    "from sklearn.model_selection import RandomizedSearchCV\n",
    "from sklearn.metrics import mean_squared_error as mse\n",
    "\n",
    "#from data_handler import get_sp500_ticker_list\n",
    "from data_handler import get_adj_close\n",
    "#from data_handler import sp500_closes_to_csv"
   ]
  },
  {
   "cell_type": "code",
   "execution_count": 2,
   "id": "20effdca-e332-42dd-9a25-cb42d2ef2909",
   "metadata": {},
   "outputs": [
    {
     "name": "stdout",
     "output_type": "stream",
     "text": [
      "[*********************100%***********************]  1 of 1 completed\n"
     ]
    }
   ],
   "source": [
    "# Getting the data\n",
    "start='2018-01-01'\n",
    "end='2020-12-31'\n",
    "interval='1d'\n",
    "ticker_list = 'AAPL'\n",
    "\n",
    "df = get_adj_close(ticker_list, start, end, interval)"
   ]
  },
  {
   "cell_type": "code",
   "execution_count": 3,
   "id": "392e932e-0186-422f-a307-2db97edbde11",
   "metadata": {},
   "outputs": [],
   "source": [
    "# Computing returns\n",
    "ret = 100 * df.pct_change()\n",
    "ret.dropna(inplace=True)"
   ]
  },
  {
   "cell_type": "code",
   "execution_count": 4,
   "id": "6276002c-340c-4685-9f9d-3bd6c5f6c77a",
   "metadata": {},
   "outputs": [],
   "source": [
    "# Computing realized volatility\n",
    "realized_vol = ret.rolling(5).std()\n",
    "realized_vol = pd.DataFrame(realized_vol)\n",
    "realized_vol.reset_index(drop=True, inplace=True)"
   ]
  },
  {
   "cell_type": "code",
   "execution_count": 5,
   "id": "b766a715-de65-4072-98ca-7fa9846c4c61",
   "metadata": {},
   "outputs": [],
   "source": [
    "returns_svm = ret ** 2\n",
    "returns_svm = returns_svm.reset_index()\n",
    "del returns_svm['Date']"
   ]
  },
  {
   "cell_type": "code",
   "execution_count": 6,
   "id": "cdc7a20b-53d5-40e6-847d-db5d2ec2d234",
   "metadata": {},
   "outputs": [],
   "source": [
    "X = pd.concat([realized_vol, returns_svm], axis=1, ignore_index=True)\n",
    "X = X[4:].copy()\n",
    "X = X.reset_index()\n",
    "X.drop('index', axis=1, inplace=True)"
   ]
  },
  {
   "cell_type": "code",
   "execution_count": 7,
   "id": "1a612925-1b1d-4a41-8016-d593cc992991",
   "metadata": {},
   "outputs": [],
   "source": [
    "realized_vol = realized_vol.dropna().reset_index()\n",
    "realized_vol.drop('index', axis=1, inplace=True)"
   ]
  },
  {
   "cell_type": "code",
   "execution_count": 20,
   "id": "984ad900-6935-4720-afd1-9562a0b7c830",
   "metadata": {},
   "outputs": [
    {
     "data": {
      "text/plain": [
       "Adj Close    0\n",
       "dtype: int64"
      ]
     },
     "execution_count": 20,
     "metadata": {},
     "output_type": "execute_result"
    }
   ],
   "source": [
    "realized_vol.isna().sum()"
   ]
  },
  {
   "cell_type": "code",
   "execution_count": 9,
   "id": "35fc93ad-16d2-4a9c-ae21-864389843dc6",
   "metadata": {},
   "outputs": [],
   "source": [
    "n = 252\n",
    "split_date = ret.iloc[-n:].index"
   ]
  },
  {
   "cell_type": "markdown",
   "id": "29af3ef3-abed-4190-8fa8-dd69df250468",
   "metadata": {},
   "source": [
    "### Neural nets"
   ]
  },
  {
   "cell_type": "code",
   "execution_count": 10,
   "id": "11be68a8-5576-4609-b330-b269e241805c",
   "metadata": {},
   "outputs": [],
   "source": [
    "NN_vol = MLPRegressor(learning_rate_init=0.001, random_state=1)"
   ]
  },
  {
   "cell_type": "code",
   "execution_count": 11,
   "id": "57a2cae1-2af3-4fc9-b772-72b92ae13c66",
   "metadata": {},
   "outputs": [],
   "source": [
    "para_grid_NN = {'hidden_layer_sizes': [(100, 50), (50, 50), (10, 100)],\n",
    "                'max_iter': [500, 1000],\n",
    "                'alpha': [0.00005, 0.0005 ]}"
   ]
  },
  {
   "cell_type": "code",
   "execution_count": 12,
   "id": "fddc8160-b305-4dbf-9787-d87acf88c837",
   "metadata": {},
   "outputs": [],
   "source": [
    "clf = RandomizedSearchCV(NN_vol, para_grid_NN)\n",
    "clf.fit(X.iloc[:-n].values,\n",
    "        realized_vol.iloc[1:-(n-1)].values.reshape(-1, ))\n",
    "NN_predictions = clf.predict(X.iloc[-n:])"
   ]
  },
  {
   "cell_type": "code",
   "execution_count": 13,
   "id": "720e46f0-094b-46f1-88d9-9733799898e9",
   "metadata": {},
   "outputs": [],
   "source": [
    "NN_predictions = pd.DataFrame(NN_predictions)\n",
    "NN_predictions.index = ret.iloc[-n:].index"
   ]
  },
  {
   "cell_type": "code",
   "execution_count": 14,
   "id": "0fdc30cd-cf84-497c-b822-944292c7ca73",
   "metadata": {},
   "outputs": [
    {
     "name": "stdout",
     "output_type": "stream",
     "text": [
      "The RMSE value of NN is 0.003421\n"
     ]
    }
   ],
   "source": [
    "rmse_NN = np.sqrt(mse(realized_vol.iloc[-n:] / 100, \n",
    "                      NN_predictions / 100))\n",
    "print('The RMSE value of NN is {:.6f}'.format(rmse_NN))"
   ]
  },
  {
   "cell_type": "markdown",
   "id": "8ef8acc6-b3b3-446c-85e2-84315ae7d06c",
   "metadata": {},
   "source": [
    "### DL"
   ]
  },
  {
   "cell_type": "code",
   "execution_count": 15,
   "id": "e389f5be-457f-489e-88f6-8cc32cefcfe0",
   "metadata": {},
   "outputs": [],
   "source": [
    "import tensorflow as tf\n",
    "from tensorflow import keras\n",
    "from tensorflow.keras import layers"
   ]
  },
  {
   "cell_type": "code",
   "execution_count": 16,
   "id": "50cd3e08-374c-4e87-ae57-5cbc3c313111",
   "metadata": {},
   "outputs": [
    {
     "name": "stderr",
     "output_type": "stream",
     "text": [
      "2022-05-09 10:10:49.323323: I tensorflow/core/platform/cpu_feature_guard.cc:151] This TensorFlow binary is optimized with oneAPI Deep Neural Network Library (oneDNN) to use the following CPU instructions in performance-critical operations:  AVX2 FMA\n",
      "To enable them in other operations, rebuild TensorFlow with the appropriate compiler flags.\n"
     ]
    }
   ],
   "source": [
    "model = keras.Sequential(\n",
    "    [layers.Dense(256, activation=\"relu\"),\n",
    "     layers.Dense(128, activation=\"relu\"),\n",
    "     layers.Dense(1, activation=\"linear\"),])"
   ]
  },
  {
   "cell_type": "code",
   "execution_count": 17,
   "id": "2461c863-b048-4287-9938-184f2d5773ba",
   "metadata": {},
   "outputs": [],
   "source": [
    "model.compile(loss='mse', optimizer='rmsprop')"
   ]
  },
  {
   "cell_type": "code",
   "execution_count": 18,
   "id": "349b4439-6b9a-4b86-9240-231cba282bfd",
   "metadata": {},
   "outputs": [
    {
     "name": "stdout",
     "output_type": "stream",
     "text": [
      "DL_RMSE_1:0.007155\n",
      "DL_RMSE_2:0.005030\n",
      "DL_RMSE_3:0.004753\n",
      "DL_RMSE_4:0.005715\n"
     ]
    }
   ],
   "source": [
    "epochs_trial = np.arange(100, 400, 4)\n",
    "batch_trial = np.arange(100, 400, 4)\n",
    "DL_pred = []\n",
    "DL_RMSE = []\n",
    "for i, j, k in zip(range(4), epochs_trial, batch_trial):\n",
    "    model.fit(X.iloc[:-n].values,\n",
    "        realized_vol.iloc[1:-(n-1)].values.reshape(-1,),\n",
    "        batch_size=k, epochs=j, verbose=False)\n",
    "    DL_predict = model.predict(np.asarray(X.iloc[-n:]))\n",
    "    DL_RMSE.append(np.sqrt(mse(realized_vol.iloc[-n:] / 100, DL_predict.flatten() / 100)))\n",
    "    DL_pred.append(DL_predict)\n",
    "    print('DL_RMSE_{}:{:.6f}'.format(i+1, DL_RMSE[i]))"
   ]
  },
  {
   "cell_type": "code",
   "execution_count": 19,
   "id": "88e30797-ada1-4c4f-bcc2-4082709680e8",
   "metadata": {},
   "outputs": [],
   "source": [
    "DL_predict = pd.DataFrame(DL_pred[DL_RMSE.index(min(DL_RMSE))])\n",
    "DL_predict.index = ret.iloc[-n:].index"
   ]
  }
 ],
 "metadata": {
  "kernelspec": {
   "display_name": "Python 3 (ipykernel)",
   "language": "python",
   "name": "python3"
  },
  "language_info": {
   "codemirror_mode": {
    "name": "ipython",
    "version": 3
   },
   "file_extension": ".py",
   "mimetype": "text/x-python",
   "name": "python",
   "nbconvert_exporter": "python",
   "pygments_lexer": "ipython3",
   "version": "3.9.7"
  }
 },
 "nbformat": 4,
 "nbformat_minor": 5
}
