{
 "cells": [
  {
   "cell_type": "code",
   "execution_count": 35,
   "id": "8fef7d80-9a31-4f0d-9f2b-b28d4bdb5b9c",
   "metadata": {},
   "outputs": [],
   "source": [
    "import pandas as pd\n",
    "import yfinance as yf\n",
    "import numpy as np\n",
    "import matplotlib.pyplot as plt\n",
    "\n",
    "from sklearn.neural_network import MLPRegressor\n",
    "from sklearn.model_selection import RandomizedSearchCV\n",
    "from sklearn.metrics import mean_squared_error as mse\n",
    "\n",
    "#from data_handler import get_sp500_ticker_list\n",
    "from data_handler import get_adj_close\n",
    "#from data_handler import sp500_closes_to_csv"
   ]
  },
  {
   "cell_type": "code",
   "execution_count": 5,
   "id": "20effdca-e332-42dd-9a25-cb42d2ef2909",
   "metadata": {},
   "outputs": [
    {
     "name": "stdout",
     "output_type": "stream",
     "text": [
      "[*********************100%***********************]  1 of 1 completed\n"
     ]
    }
   ],
   "source": [
    "# Getting the data\n",
    "start='2018-01-01'\n",
    "end='2020-12-31'\n",
    "interval='1d'\n",
    "ticker_list = 'AAPL'\n",
    "\n",
    "df = get_adj_close(ticker_list, start, end, interval)"
   ]
  },
  {
   "cell_type": "code",
   "execution_count": 6,
   "id": "392e932e-0186-422f-a307-2db97edbde11",
   "metadata": {},
   "outputs": [],
   "source": [
    "# Computing returns\n",
    "ret = 100 * df.pct_change()\n",
    "ret.dropna(inplace=True)"
   ]
  },
  {
   "cell_type": "code",
   "execution_count": 23,
   "id": "6276002c-340c-4685-9f9d-3bd6c5f6c77a",
   "metadata": {},
   "outputs": [],
   "source": [
    "# Computing realized volatility\n",
    "realized_vol = ret.rolling(5).std()\n",
    "realized_vol = pd.DataFrame(realized_vol)\n",
    "realized_vol.reset_index(drop=True, inplace=True)"
   ]
  },
  {
   "cell_type": "code",
   "execution_count": 24,
   "id": "b766a715-de65-4072-98ca-7fa9846c4c61",
   "metadata": {},
   "outputs": [],
   "source": [
    "returns_svm = ret ** 2\n",
    "returns_svm = returns_svm.reset_index()\n",
    "del returns_svm['Date']"
   ]
  },
  {
   "cell_type": "code",
   "execution_count": 25,
   "id": "cdc7a20b-53d5-40e6-847d-db5d2ec2d234",
   "metadata": {},
   "outputs": [],
   "source": [
    "X = pd.concat([realized_vol, returns_svm], axis=1, ignore_index=True)\n",
    "X = X[4:].copy()\n",
    "X = X.reset_index()\n",
    "X.drop('index', axis=1, inplace=True)"
   ]
  },
  {
   "cell_type": "code",
   "execution_count": 26,
   "id": "1a612925-1b1d-4a41-8016-d593cc992991",
   "metadata": {},
   "outputs": [],
   "source": [
    "realized_vol = realized_vol.dropna().reset_index()\n",
    "realized_vol.drop('index', axis=1, inplace=True)"
   ]
  },
  {
   "cell_type": "code",
   "execution_count": 27,
   "id": "35fc93ad-16d2-4a9c-ae21-864389843dc6",
   "metadata": {},
   "outputs": [],
   "source": [
    "n = 252\n",
    "split_date = ret.iloc[-n:].index"
   ]
  },
  {
   "cell_type": "markdown",
   "id": "29af3ef3-abed-4190-8fa8-dd69df250468",
   "metadata": {},
   "source": [
    "### Neural nets"
   ]
  },
  {
   "cell_type": "code",
   "execution_count": 29,
   "id": "11be68a8-5576-4609-b330-b269e241805c",
   "metadata": {},
   "outputs": [],
   "source": [
    "NN_vol = MLPRegressor(learning_rate_init=0.001, random_state=1)"
   ]
  },
  {
   "cell_type": "code",
   "execution_count": 30,
   "id": "57a2cae1-2af3-4fc9-b772-72b92ae13c66",
   "metadata": {},
   "outputs": [],
   "source": [
    "para_grid_NN = {'hidden_layer_sizes': [(100, 50), (50, 50), (10, 100)],\n",
    "                'max_iter': [500, 1000],\n",
    "                'alpha': [0.00005, 0.0005 ]}"
   ]
  },
  {
   "cell_type": "code",
   "execution_count": 31,
   "id": "fddc8160-b305-4dbf-9787-d87acf88c837",
   "metadata": {},
   "outputs": [],
   "source": [
    "clf = RandomizedSearchCV(NN_vol, para_grid_NN)\n",
    "clf.fit(X.iloc[:-n].values,\n",
    "        realized_vol.iloc[1:-(n-1)].values.reshape(-1, ))\n",
    "NN_predictions = clf.predict(X.iloc[-n:])"
   ]
  },
  {
   "cell_type": "code",
   "execution_count": 33,
   "id": "720e46f0-094b-46f1-88d9-9733799898e9",
   "metadata": {},
   "outputs": [],
   "source": [
    "NN_predictions = pd.DataFrame(NN_predictions)\n",
    "NN_predictions.index = ret.iloc[-n:].index"
   ]
  },
  {
   "cell_type": "code",
   "execution_count": 36,
   "id": "0fdc30cd-cf84-497c-b822-944292c7ca73",
   "metadata": {},
   "outputs": [
    {
     "name": "stdout",
     "output_type": "stream",
     "text": [
      "The RMSE value of NN is 0.003438\n"
     ]
    }
   ],
   "source": [
    "rmse_NN = np.sqrt(mse(realized_vol.iloc[-n:] / 100, \n",
    "                      NN_predictions / 100))\n",
    "print('The RMSE value of NN is {:.6f}'.format(rmse_NN))"
   ]
  },
  {
   "cell_type": "markdown",
   "id": "8ef8acc6-b3b3-446c-85e2-84315ae7d06c",
   "metadata": {},
   "source": [
    "### DL"
   ]
  },
  {
   "cell_type": "code",
   "execution_count": 38,
   "id": "e389f5be-457f-489e-88f6-8cc32cefcfe0",
   "metadata": {},
   "outputs": [],
   "source": [
    "import tensorflow as tf\n",
    "from tensorflow import keras\n",
    "from tensorflow.keras import layers"
   ]
  },
  {
   "cell_type": "code",
   "execution_count": 39,
   "id": "50cd3e08-374c-4e87-ae57-5cbc3c313111",
   "metadata": {},
   "outputs": [
    {
     "name": "stderr",
     "output_type": "stream",
     "text": [
      "2022-05-01 16:05:14.711987: I tensorflow/core/platform/cpu_feature_guard.cc:151] This TensorFlow binary is optimized with oneAPI Deep Neural Network Library (oneDNN) to use the following CPU instructions in performance-critical operations:  AVX2 FMA\n",
      "To enable them in other operations, rebuild TensorFlow with the appropriate compiler flags.\n"
     ]
    }
   ],
   "source": [
    "model = keras.Sequential(\n",
    "    [layers.Dense(256, activation=\"relu\"),\n",
    "     layers.Dense(128, activation=\"relu\"),\n",
    "     layers.Dense(1, activation=\"linear\"),])"
   ]
  },
  {
   "cell_type": "code",
   "execution_count": 40,
   "id": "2461c863-b048-4287-9938-184f2d5773ba",
   "metadata": {},
   "outputs": [],
   "source": [
    "model.compile(loss='mse', optimizer='rmsprop')"
   ]
  },
  {
   "cell_type": "code",
   "execution_count": 42,
   "id": "349b4439-6b9a-4b86-9240-231cba282bfd",
   "metadata": {},
   "outputs": [
    {
     "name": "stdout",
     "output_type": "stream",
     "text": [
      "DL_RMSE_1:0.004491\n",
      "DL_RMSE_2:0.004243\n",
      "DL_RMSE_3:0.006194\n",
      "DL_RMSE_4:0.003906\n"
     ]
    }
   ],
   "source": [
    "epochs_trial = np.arange(100, 400, 4)\n",
    "batch_trial = np.arange(100, 400, 4)\n",
    "DL_pred = []\n",
    "DL_RMSE = []\n",
    "for i, j, k in zip(range(4), epochs_trial, batch_trial):\n",
    "    model.fit(X.iloc[:-n].values,\n",
    "        realized_vol.iloc[1:-(n-1)].values.reshape(-1,),\n",
    "        batch_size=k, epochs=j, verbose=False)\n",
    "    DL_predict = model.predict(np.asarray(X.iloc[-n:]))\n",
    "    DL_RMSE.append(np.sqrt(mse(realized_vol.iloc[-n:] / 100, DL_predict.flatten() / 100)))\n",
    "    DL_pred.append(DL_predict)\n",
    "    print('DL_RMSE_{}:{:.6f}'.format(i+1, DL_RMSE[i]))"
   ]
  },
  {
   "cell_type": "code",
   "execution_count": 43,
   "id": "88e30797-ada1-4c4f-bcc2-4082709680e8",
   "metadata": {},
   "outputs": [],
   "source": [
    "DL_predict = pd.DataFrame(DL_pred[DL_RMSE.index(min(DL_RMSE))])\n",
    "DL_predict.index = ret.iloc[-n:].index"
   ]
  },
  {
   "cell_type": "code",
   "execution_count": null,
   "id": "d6ea189b-4d2d-4c11-8184-e401423f314b",
   "metadata": {},
   "outputs": [],
   "source": []
  },
  {
   "cell_type": "code",
   "execution_count": null,
   "id": "f1534ff2-e6cb-45a2-ae6b-4f4a290c1f23",
   "metadata": {},
   "outputs": [],
   "source": []
  },
  {
   "cell_type": "code",
   "execution_count": 15,
   "id": "eecf7020-5bd8-4311-97d9-15e5cf4b72b1",
   "metadata": {},
   "outputs": [
    {
     "data": {
      "text/plain": [
       "498"
      ]
     },
     "execution_count": 15,
     "metadata": {},
     "output_type": "execute_result"
    }
   ],
   "source": [
    "len(realized_vol.iloc[:-n].values)"
   ]
  },
  {
   "cell_type": "code",
   "execution_count": 18,
   "id": "20042e46-9aba-4ed8-b60d-293e367c7829",
   "metadata": {},
   "outputs": [
    {
     "data": {
      "text/plain": [
       "array([0.58395365, 0.59564529, 0.55725517, 0.59667709, 0.85071099,\n",
       "       0.83330167, 0.94839978, 0.98265876, 0.94274191, 0.69044052,\n",
       "       0.76229491, 0.91433315, 1.08086235, 0.95840225, 1.101341  ,\n",
       "       1.00653947, 1.94245531, 1.99355576, 3.22914194, 3.27672485,\n",
       "       3.28963124, 3.0235482 , 3.28715126, 2.76168624, 2.44852167,\n",
       "       1.33766815, 1.75890057, 1.56127793, 1.71439933, 1.62024043,\n",
       "       0.96441178, 1.13151617, 1.12856682, 1.05315955, 1.5561496 ,\n",
       "       1.37335703, 0.93687902, 0.93748619, 0.99225903, 0.77599471,\n",
       "       1.02633845, 1.05112429, 1.24056231, 1.22033543, 1.15701901,\n",
       "       0.78885325, 0.62554551, 0.66988818, 1.03745291, 0.9126849 ,\n",
       "       0.92295894, 2.94532854, 3.11033848, 3.01185742, 3.01088423,\n",
       "       2.78752729, 1.4679686 , 1.24523304, 0.92288336, 1.74124155,\n",
       "       1.72214868, 1.83699344, 1.71087674, 1.74061545, 0.8727051 ,\n",
       "       0.86226306, 0.69928761, 0.61198242, 1.61064895, 2.33650975,\n",
       "       2.20687505, 1.67863316, 1.84777846, 1.8795149 , 0.84067297,\n",
       "       1.3102961 , 1.36923226, 2.10126413, 2.12630824, 1.70147709,\n",
       "       1.87705688, 2.0478346 , 1.53662798, 1.42667156, 0.65010875,\n",
       "       0.7366689 , 0.93434333, 0.97475723, 0.70666546, 0.70590222,\n",
       "       0.82420443, 0.69581049, 0.61356027, 0.51053874, 0.43146585,\n",
       "       0.40750007, 0.40133586, 0.23839589, 0.91388923, 0.95402874,\n",
       "       0.87553038, 0.78070838, 0.75878976, 0.74042349, 0.64349729,\n",
       "       0.5756729 , 0.58337259, 0.61012783, 0.64211627, 0.6517926 ,\n",
       "       0.69741227, 0.84967311, 0.80356091, 0.76380506, 0.85685966,\n",
       "       1.03073446, 0.98226089, 1.04712043, 1.04194054, 0.68815937,\n",
       "       1.10297574, 1.16269216, 1.27756526, 1.32601602, 1.31863945,\n",
       "       1.14687836, 1.27661966, 1.20532394, 1.06940958, 1.06955782,\n",
       "       0.85160812, 0.50435501, 0.52081413, 0.50446006, 0.58294448,\n",
       "       0.50432734, 0.56543957, 1.03416579, 1.05390568, 0.96423692,\n",
       "       2.97468593, 3.04735134, 2.66444028, 2.46699913, 2.71081363,\n",
       "       1.42680949, 0.66147589, 0.68128474, 0.70599246, 0.44140161,\n",
       "       0.4230962 , 0.64536851, 0.74945622, 1.1554829 , 1.21447087,\n",
       "       1.23147147, 1.09570134, 0.51030637, 0.38430874, 0.36854083,\n",
       "       0.51197879, 0.42105434, 0.28893333, 0.43405859, 0.84311681,\n",
       "       1.16927279, 1.08796415, 0.75995973, 1.67948768, 1.72290853,\n",
       "       1.9836242 , 2.03463881, 2.35295201, 1.90874513, 1.86920798,\n",
       "       1.36055054, 1.35468241, 0.9320039 , 0.94246056, 1.07922248,\n",
       "       1.36682216, 1.08862661, 1.01675437, 1.02626553, 0.65068164,\n",
       "       1.17917267, 1.44709491, 1.37793867, 1.49782906, 2.22184269,\n",
       "       2.21829803, 3.03509299, 3.16375148, 3.30617898, 2.34926966,\n",
       "       2.63097387, 2.06883384, 1.78236764, 1.51761696, 2.200147  ,\n",
       "       2.20613499, 2.23781762, 2.27322694, 2.19794729, 2.07549992,\n",
       "       1.9484031 , 3.67179148, 3.76797305, 3.83298944, 3.93251342,\n",
       "       3.74275206, 2.34868925, 3.06326355, 2.90835724, 1.82892627,\n",
       "       2.75279985, 3.00342007, 2.66711735, 3.20397374, 3.1737887 ,\n",
       "       2.5031524 , 2.58169629, 2.41037559, 2.34749796, 2.40543135,\n",
       "       1.92667783, 2.30032782, 3.41669226, 2.80489467, 3.09453133,\n",
       "       3.20534595, 2.11511299, 1.6637327 , 1.86163074, 1.70795614,\n",
       "       1.61933147, 1.84673342, 2.17956454, 1.90582768, 2.06068245,\n",
       "       2.01199113, 4.5375047 , 4.38304266, 4.23787518, 3.63974232,\n",
       "       3.14791056, 4.54480928, 5.34394043, 5.33299435, 5.43377207,\n",
       "       5.54391191, 1.74553533, 1.24037644, 1.53550876, 1.57331494,\n",
       "       1.48032474, 1.48996211, 1.31386947, 1.61662249, 1.35612608,\n",
       "       1.24066068, 2.05265467, 2.10089549, 1.83829797, 3.51089301,\n",
       "       3.32659556, 3.27056786, 3.10911309, 2.67736513, 1.20255267,\n",
       "       1.80863508, 1.80409839, 1.30255604, 1.03097206, 1.01496711,\n",
       "       0.58469579, 0.59750693, 0.50730976, 0.43845275, 0.48723948,\n",
       "       0.66966102, 0.63438999, 0.65707529, 0.6424877 , 0.79720973,\n",
       "       0.77967612, 0.74977911, 0.76759722, 0.81891608, 0.87116914,\n",
       "       0.65909277, 1.81126353, 1.80816362, 1.69383899, 1.28569205,\n",
       "       1.15203552, 0.32779328, 0.85036998, 0.85014768, 1.60330894,\n",
       "       2.16870212, 2.27264019, 2.29859168, 2.30091146, 1.17166398,\n",
       "       0.96414866, 0.77883479, 0.4775897 , 0.47189859, 0.45920442,\n",
       "       0.45853043, 0.58861646, 0.69704008, 0.69367931, 0.93047982,\n",
       "       0.92067713, 0.52330227, 0.50982318, 1.02457986, 0.82882493,\n",
       "       0.78491986, 0.83182545, 0.87387092, 0.85680276, 0.90178081,\n",
       "       0.89134646, 0.80795219, 2.65820902, 2.63017727, 2.5988392 ,\n",
       "       2.79869822, 2.97474933, 1.49904219, 1.50571429, 0.97479742,\n",
       "       2.24437773, 2.75968233, 2.94802368, 2.96291753, 2.95689806,\n",
       "       1.86202844, 1.949135  , 1.90539312, 1.92091005, 1.93551867,\n",
       "       1.55804706, 0.80516573, 0.79304472, 0.83343545, 0.85595864,\n",
       "       2.12310531, 2.16795795, 2.20106841, 1.74417807, 1.00603538,\n",
       "       0.59945647, 1.06173103, 1.18650646, 0.89823693, 0.74680365,\n",
       "       1.20487742, 1.2011813 , 1.18862343, 1.09420547, 1.14191575,\n",
       "       0.82717566, 1.37332996, 1.33199525, 1.39516166, 1.6352754 ,\n",
       "       1.28104327, 1.01981593, 1.02711265, 1.4499181 , 1.18906781,\n",
       "       1.25282472, 1.20521839, 1.29267897, 0.71125252, 0.80223187,\n",
       "       0.78073031, 0.78264442, 1.09728935, 1.49745786, 1.47871402,\n",
       "       1.41220264, 1.4659247 , 1.15041624, 0.69861322, 0.67250322,\n",
       "       1.12717164, 1.5745605 , 1.85587056, 2.66539685, 3.08542917,\n",
       "       2.85232792, 3.17873914, 3.05906397, 1.32032836, 2.02649847,\n",
       "       2.79564544, 2.63460884, 2.78523994, 2.78910122, 2.12350194,\n",
       "       1.20731194, 1.09074728, 2.52021755, 2.52806073, 2.53978329,\n",
       "       2.47854188, 2.69821636, 1.26578617, 1.29456704, 1.33303711,\n",
       "       1.48989083, 1.41358154, 1.3819439 , 0.8314905 , 1.26906974,\n",
       "       1.3773379 , 1.88083561, 1.8800802 , 1.84598494, 1.12913138,\n",
       "       1.17899351, 1.00568185, 0.99526919, 0.96711541, 1.17088653,\n",
       "       1.13598913, 0.90149958, 1.36659024, 1.27289013, 1.74986151,\n",
       "       1.78960764, 2.09923439, 1.90545499, 2.01471367, 1.46837206,\n",
       "       1.49475883, 1.4482205 , 1.47238671, 1.19657515, 1.3273085 ,\n",
       "       1.26841173, 0.39305907, 0.841653  , 0.84081921, 0.78744949,\n",
       "       0.81842187, 0.83711526, 0.69550624, 1.52396262, 1.40494637,\n",
       "       1.73496153, 2.04133358, 2.03674074, 1.35530229, 1.34396867,\n",
       "       1.19411464, 0.5180972 , 0.5381891 , 0.52477632, 0.51364209,\n",
       "       0.67073056, 0.79295136, 0.77032648, 0.80720464, 0.94176698,\n",
       "       0.90879153, 0.60425675, 1.08601165, 1.13380252, 1.12511853,\n",
       "       1.08838099, 1.29394553, 1.18631977, 1.32036256, 1.35691063,\n",
       "       1.64455866, 1.70002618, 1.28079204, 1.27976252, 1.20788921,\n",
       "       1.04836015, 0.58611267, 0.66710827, 0.83399945, 0.85523998,\n",
       "       0.80475872, 0.77006747, 0.77468376, 1.00792402, 1.03081055,\n",
       "       0.91124624, 0.80124433, 0.98299932])"
      ]
     },
     "execution_count": 18,
     "metadata": {},
     "output_type": "execute_result"
    }
   ],
   "source": [
    "realized_vol.iloc[1:-(n-1)].values#.reshape(-1, )"
   ]
  },
  {
   "cell_type": "code",
   "execution_count": null,
   "id": "4e154de0-0de5-4020-861b-2687f4cb0e57",
   "metadata": {},
   "outputs": [],
   "source": []
  }
 ],
 "metadata": {
  "kernelspec": {
   "display_name": "Python 3 (ipykernel)",
   "language": "python",
   "name": "python3"
  },
  "language_info": {
   "codemirror_mode": {
    "name": "ipython",
    "version": 3
   },
   "file_extension": ".py",
   "mimetype": "text/x-python",
   "name": "python",
   "nbconvert_exporter": "python",
   "pygments_lexer": "ipython3",
   "version": "3.9.7"
  }
 },
 "nbformat": 4,
 "nbformat_minor": 5
}
